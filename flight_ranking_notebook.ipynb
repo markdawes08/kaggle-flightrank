{
 "cells": [
  {
   "cell_type": "markdown",
   "metadata": {},
   "source": [
    "# Flight Ranking Competition - Baseline Model\n",
    "## Predict Business Traveler Flight Choices\n",
    "\n",
    "**Goal**: Rank flights to predict which one a business traveler will choose\n",
    "**Metric**: HitRate@3 (correct flight in top 3 predictions)\n",
    "**Your Advantage**: Airline industry expertise!"
   ]
  },
  {
   "cell_type": "code",
   "execution_count": null,
   "metadata": {},
   "outputs": [],
   "source": [
    "# Import libraries\n",
    "import pandas as pd\n",
    "import numpy as np\n",
    "import pyarrow.parquet as pq\n",
    "import gc\n",
    "from sklearn.ensemble import RandomForestRegressor\n",
    "import warnings\n",
    "warnings.filterwarnings('ignore')\n",
    "\n",
    "# Set display options\n",
    "pd.set_option('display.max_columns', 20)\n",
    "pd.set_option('display.max_rows', 10)"
   ]
  },
  {
   "cell_type": "markdown",
   "metadata": {},
   "source": [
    "## 1. Load Data Using PyArrow (More Stable)"
   ]
  },
  {
   "cell_type": "code",
   "execution_count": null,
   "metadata": {},
   "outputs": [],
   "source": [
    "# Load with pyarrow directly - more stable for large files\n",
    "print(\"Loading train data...\")\n",
    "train_table = pq.read_table('data/train.parquet')\n",
    "print(f\"Train shape: {train_table.num_rows:,} rows × {train_table.num_columns} columns\")\n",
    "\n",
    "# Convert to pandas in batches if needed\n",
    "train = train_table.to_pandas()\n",
    "del train_table\n",
    "gc.collect()\n",
    "\n",
    "print(\"Data loaded successfully!\")"
   ]
  },
  {
   "cell_type": "markdown",
   "metadata": {},
   "source": [
    "## 2. Quick Data Overview"
   ]
  },
  {
   "cell_type": "code",
   "execution_count": null,
   "metadata": {},
   "outputs": [],
   "source": [
    "# Basic info\n",
    "print(f\"Total search sessions: {train['ranker_id'].nunique():,}\")\n",
    "print(f\"Selected flights: {train['selected'].sum():,}\")\n",
    "\n",
    "# Group sizes (important for scoring)\n",
    "group_sizes = train.groupby('ranker_id').size()\n",
    "print(f\"\\nGroups with >10 options (scored): {(group_sizes > 10).sum():,}\")\n",
    "print(f\"Groups with ≤10 options (ignored): {(group_sizes <= 10).sum():,}\")"
   ]
  },
  {
   "cell_type": "markdown",
   "metadata": {},
   "source": [
    "## 3. Business Traveler Insights"
   ]
  },
  {
   "cell_type": "code",
   "execution_count": null,
   "metadata": {},
   "outputs": [],
   "source": [
    "# Analyze selected vs not selected\n",
    "selected = train[train['selected'] == 1]\n",
    "not_selected = train[train['selected'] == 0]\n",
    "\n",
    "print(\"Price Analysis:\")\n",
    "print(f\"Selected flights avg: ${selected['totalPrice'].mean():.2f}\")\n",
    "print(f\"Not selected avg: ${not_selected['totalPrice'].mean():.2f}\")\n",
    "\n",
    "# Corporate policy\n",
    "if 'pricingInfo_isAccessTP' in train.columns:\n",
    "    print(f\"\\nPolicy compliance rate: {selected['pricingInfo_isAccessTP'].mean():.1%}\")"
   ]
  },
  {
   "cell_type": "markdown",
   "metadata": {},
   "source": [
    "## 4. Simple Feature Engineering"
   ]
  },
  {
   "cell_type": "code",
   "execution_count": null,
   "metadata": {},
   "outputs": [],
   "source": [
    "# Work with a sample for speed\n",
    "sample_sessions = train['ranker_id'].unique()[:5000]\n",
    "train_sample = train[train['ranker_id'].isin(sample_sessions)].copy()\n",
    "print(f\"Working with {len(train_sample):,} rows\")\n",
    "\n",
    "# Create rank features\n",
    "train_sample['price_rank'] = train_sample.groupby('ranker_id')['totalPrice'].rank()\n",
    "train_sample['price_pct'] = train_sample.groupby('ranker_id')['totalPrice'].rank(pct=True)\n",
    "\n",
    "# Duration if available\n",
    "duration_cols = [c for c in train.columns if 'duration' in c]\n",
    "if duration_cols:\n",
    "    col = duration_cols[0]\n",
    "    train_sample['duration_rank'] = train_sample.groupby('ranker_id')[col].rank()\n",
    "\n",
    "print(\"Features created!\")"
   ]
  },
  {
   "cell_type": "markdown",
   "metadata": {},
   "source": [
    "## 5. Train Baseline Model"
   ]
  },
  {
   "cell_type": "code",
   "execution_count": null,
   "metadata": {},
   "outputs": [],
   "source": [
    "# Select features\n",
    "feature_cols = ['price_rank', 'price_pct']\n",
    "if 'duration_rank' in train_sample.columns:\n",
    "    feature_cols.append('duration_rank')\n",
    "\n",
    "X = train_sample[feature_cols].fillna(-1)\n",
    "y = train_sample['selected']\n",
    "\n",
    "# Train model\n",
    "model = RandomForestRegressor(n_estimators=50, max_depth=5, random_state=42)\n",
    "model.fit(X, y)\n",
    "\n",
    "print(f\"Model trained with {len(feature_cols)} features\")"
   ]
  },
  {
   "cell_type": "markdown",
   "metadata": {},
   "source": [
    "## 6. Create Submission"
   ]
  },
  {
   "cell_type": "code",
   "execution_count": null,
   "metadata": {},
   "outputs": [],
   "source": [
    "# Load test data\n",
    "print(\"Loading test data...\")\n",
    "test = pd.read_parquet('data/test.parquet')\n",
    "print(f\"Test shape: {test.shape}\")\n",
    "\n",
    "# Create same features\n",
    "test['price_rank'] = test.groupby('ranker_id')['totalPrice'].rank()\n",
    "test['price_pct'] = test.groupby('ranker_id')['totalPrice'].rank(pct=True)\n",
    "\n",
    "# Predict\n",
    "X_test = test[['price_rank', 'price_pct']].fillna(-1)\n",
    "test_pred = model.predict(X_test)\n",
    "\n",
    "# Create submission\n",
    "submission = test[['Id', 'ranker_id']].copy()\n",
    "submission['pred'] = test_pred\n",
    "submission['selected'] = submission.groupby('ranker_id')['pred'].rank(method='first', ascending=False).astype(int)\n",
    "\n",
    "# Save\n",
    "submission[['Id', 'ranker_id', 'selected']].to_parquet('submissions/baseline.parquet', index=False)\n",
    "print(\"Submission saved!\")"
   ]
  },
  {
   "cell_type": "markdown",
   "metadata": {},
   "source": [
    "## Next Steps\n",
    "\n",
    "With your airline expertise, focus on:\n",
    "1. **Time features**: Departure hour, day of week\n",
    "2. **Corporate features**: Policy compliance, company patterns\n",
    "3. **Route analysis**: Business vs leisure routes\n",
    "4. **Airline loyalty**: Frequent flyer preferences\n",
    "5. **Advanced models**: LightGBM for better ranking"
   ]
  }
 ],
 "metadata": {
  "kernelspec": {
   "display_name": "Python 3",
   "language": "python",
   "name": "python3"
  },
  "language_info": {
   "codemirror_mode": {
    "name": "ipython",
    "version": 3
   },
   "file_extension": ".py",
   "mimetype": "text/x-python",
   "name": "python",
   "nbconvert_exporter": "python",
   "pygments_lexer": "ipython3",
   "version": "3.8.0"
  }
 },
 "nbformat": 4,
 "nbformat_minor": 4
}